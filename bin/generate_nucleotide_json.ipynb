{
 "cells": [
  {
   "cell_type": "code",
   "execution_count": null,
   "metadata": {},
   "outputs": [],
   "source": [
    "import json\n",
    "import gzip\n",
    "from tqdm import tqdm"
   ]
  },
  {
   "cell_type": "code",
   "execution_count": null,
   "metadata": {},
   "outputs": [],
   "source": [
    "## public.jsonl comes from https://cov2tree.nyc3.cdn.digitaloceanspaces.com/latest_public.jsonl.gz\n",
    "with gzip.open(\"latest_public.jsonl.gz\", \"rb\") as infile:\n",
    "    for line in infile:\n",
    "        mutations = json.loads(line)\n",
    "        break\n",
    "    \n",
    "## lookup dict for mutation ids\n",
    "mutation_list = {\n",
    "    x[\"mutation_id\"] : {\n",
    "        \"gene\": x['gene'],\n",
    "        \"ref\": x['previous_residue'],\n",
    "        \"pos\": x['residue_pos'],\n",
    "        \"alt\": x['new_residue']\n",
    "    }\n",
    "    for x in mutations[\"mutations\"]\n",
    "}\n"
   ]
  },
  {
   "cell_type": "code",
   "execution_count": null,
   "metadata": {},
   "outputs": [],
   "source": [
    "with gzip.open(\"latest_public.jsonl.gz\", \"rb\") as infile:\n",
    "    infile_lines = {\n",
    "        str(y[\"node_id\"]) : y\n",
    "        for x in infile.read().splitlines() \n",
    "        if ((y :=  json.loads(x)) and y.get(\"node_id\", False))\n",
    "    }"
   ]
  },
  {
   "cell_type": "code",
   "execution_count": null,
   "metadata": {},
   "outputs": [],
   "source": [
    "## lookup dict for mutation ids\n",
    "mutation_list = [\n",
    "    {\n",
    "        \"gene\": x['gene'],\n",
    "        \"ref\": x['previous_residue'],\n",
    "        \"pos\": x['residue_pos'],\n",
    "        \"alt\": x['new_residue']\n",
    "    }\n",
    "    for x in mutations[\"mutations\"]\n",
    "]\n"
   ]
  },
  {
   "cell_type": "code",
   "execution_count": null,
   "metadata": {},
   "outputs": [],
   "source": [
    "def get_parent_node_for_node_id(input_node_id):\n",
    "    line_json = infile_lines[str(input_node_id)]\n",
    "    node_id = line_json.get(\"node_id\", False)\n",
    "    if str(node_id) == str(input_node_id):\n",
    "        return line_json.get(\"parent_id\", False)\n",
    "    #print(\"no parents????\")\n",
    "    return False\n",
    "\n",
    "def get_node_json_by_node_id(input_node_id):\n",
    "    line_json = infile_lines[str(input_node_id)]\n",
    "    node_id = line_json.get(\"node_id\", False)\n",
    "    if str(node_id) == str(input_node_id):\n",
    "        return line_json\n",
    "\n",
    "def get_non_lineage_parent_mutations_for_node(input_node_id):\n",
    "    ##print(\"\\tGetting parent for\", input_node_id)\n",
    "    parent_node_id = get_parent_node_for_node_id(input_node_id)\n",
    "    \n",
    "    if not parent_node_id:\n",
    "        #print(\"\\tno parent found\")\n",
    "        return []\n",
    "\n",
    "    #print(\"\\tFound parent\", parent_node_id)\n",
    "    parent_json = get_node_json_by_node_id(parent_node_id)\n",
    "    mutations_list = []\n",
    "    \n",
    "    if parent_json.get(\"clades\", {}).get(\"pango\", \"\") == \"\": ## if the pango lineage is blank\n",
    "        #print(\"\\trecursing\")\n",
    "        mutations_list = mutations_list + parent_json[\"mutations\"] + get_non_lineage_parent_mutations_for_node(parent_node_id)\n",
    "        return mutations_list\n",
    "    else:\n",
    "        #print(\"\\tnot recursing\")\n",
    "        return mutations_list"
   ]
  },
  {
   "cell_type": "code",
   "execution_count": null,
   "metadata": {},
   "outputs": [],
   "source": [
    "result_dict = {}\n",
    "\n",
    "## get amino acids and nucleotides for each lineage\n",
    "for line in tqdm(infile_lines.values()):\n",
    "    line_json = line\n",
    "    pango_call = line_json.get(\"clades\", {}).get(\"pango\", False)\n",
    "    if pango_call:\n",
    "        if pango_call not in result_dict.keys(): ## get the first occurrence\n",
    "            node_id = str(line_json[\"node_id\"])\n",
    "            \n",
    "            ## we need to check the parent nodes\n",
    "            ## if those parent nodes are not a defined PANGO lineage\n",
    "            ## we need to include any associated mutations in the child node\n",
    "            parent_mutations = get_non_lineage_parent_mutations_for_node(node_id)\n",
    "            line_json_mutations = parent_mutations + line_json[\"mutations\"]\n",
    "\n",
    "            result_dict[pango_call] =  [mutation_list[idx] for idx in line_json_mutations] ## look up the ids to get the mutations\n",
    "            #print(\"Using\", line_json[\"name\"], \"( id\", line_json[\"node_id\"], \") for\", pango_call)\n"
   ]
  },
  {
   "cell_type": "code",
   "execution_count": null,
   "metadata": {},
   "outputs": [],
   "source": [
    "temp_dict = {}\n",
    "\n",
    "## remove amino acids\n",
    "for k, v in result_dict.items():\n",
    "    mut_list_nts = [x for x in v if x['gene'] == \"nt\"]\n",
    "    if len(mut_list_nts):\n",
    "        temp_dict[k] = mut_list_nts\n",
    "    \n",
    "result_dict = temp_dict\n",
    "\n",
    "del temp_dict"
   ]
  },
  {
   "cell_type": "code",
   "execution_count": null,
   "metadata": {},
   "outputs": [],
   "source": [
    "## jsonify and write out\n",
    "with open(\"../res/test_all_nt.js\", \"w\") as outfile:\n",
    "    outfile.write(\"var lineage_mutations_nts = \")\n",
    "    outfile.write(json.dumps(result_dict, indent=4))"
   ]
  }
 ],
 "metadata": {
  "kernelspec": {
   "display_name": "Python 3",
   "language": "python",
   "name": "python3"
  },
  "language_info": {
   "codemirror_mode": {
    "name": "ipython",
    "version": 3
   },
   "file_extension": ".py",
   "mimetype": "text/x-python",
   "name": "python",
   "nbconvert_exporter": "python",
   "pygments_lexer": "ipython3",
   "version": "3.10.9"
  },
  "vscode": {
   "interpreter": {
    "hash": "b2dd644da84b80cccff984c6b3770ecd49d25e0624cb5d3337421ace89e78537"
   }
  }
 },
 "nbformat": 4,
 "nbformat_minor": 2
}
